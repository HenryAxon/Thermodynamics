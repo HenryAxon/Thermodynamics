{
 "cells": [
  {
   "cell_type": "code",
   "execution_count": 113,
   "id": "7825f8c2",
   "metadata": {},
   "outputs": [
    {
     "name": "stdout",
     "output_type": "stream",
     "text": [
      "68923264410.0\n",
      "0.00014530659691950015\n",
      "0.12381443271804543\n"
     ]
    }
   ],
   "source": [
    "import numpy as np\n",
    "N1 = 10\n",
    "N2 = 10\n",
    "\n",
    "def Reverse(lst):\n",
    "    newlist = lst[::-1]\n",
    "    return newlist\n",
    "\n",
    "macrostates1 = []\n",
    "for i in range(0,21):\n",
    "    macrostates1.append(i)\n",
    "\n",
    "macrostates2 = Reverse(macrostates1)\n",
    "\n",
    "def microstates(N,q):\n",
    "    microstates = []\n",
    "    for i in q:\n",
    "        multiplicity = (np.math.factorial(i+N-1))/(np.math.factorial(i)*np.math.factorial(N-1))\n",
    "        microstates.append(multiplicity)\n",
    "    return microstates\n",
    "\n",
    "def totalmicrostates(microstates1, microstates2):\n",
    "    totalmicro = []\n",
    "    res_list = [microstates1[i] * microstates2[i] for i in range(len(microstates1))]\n",
    "    return res_list\n",
    "\n",
    "\n",
    "microstates1 = microstates(10, macrostates1)\n",
    "microstates2 = microstates(10, macrostates2)\n",
    "totalmicrostates = totalmicrostates(microstates1, microstates2)\n",
    "sumtotalmicros = sum(totalmicrostates)\n",
    "\n",
    "print(sumtotalmicros)\n",
    "\n",
    "probmicroallina = (totalmicrostates[0])/(sumtotalmicros)\n",
    "print(probmicroallina)\n",
    "probmicro10ina = totalmicrostates[10]/sumtotalmicros\n",
    "print(probmicro10ina)"
   ]
  },
  {
   "cell_type": "code",
   "execution_count": null,
   "id": "33d29b38",
   "metadata": {},
   "outputs": [],
   "source": []
  }
 ],
 "metadata": {
  "kernelspec": {
   "display_name": "Python 3 (ipykernel)",
   "language": "python",
   "name": "python3"
  },
  "language_info": {
   "codemirror_mode": {
    "name": "ipython",
    "version": 3
   },
   "file_extension": ".py",
   "mimetype": "text/x-python",
   "name": "python",
   "nbconvert_exporter": "python",
   "pygments_lexer": "ipython3",
   "version": "3.9.12"
  }
 },
 "nbformat": 4,
 "nbformat_minor": 5
}
